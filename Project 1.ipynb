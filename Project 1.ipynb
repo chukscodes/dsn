{
 "cells": [
  {
   "cell_type": "markdown",
   "metadata": {},
   "source": [
    "### Step#1 Importing the required libraries"
   ]
  },
  {
   "cell_type": "code",
   "execution_count": 4,
   "metadata": {},
   "outputs": [],
   "source": [
    "import pandas as pd\n",
    "import numpy as np\n",
    "import glob\n",
    "import os\n",
    "\n",
    "import matplotlib.pyplot as plt\n",
    "import seaborn\n",
    "import sklearn\n",
    "\n",
    "from sklearn.preprocessing import OneHotEncoder\n",
    "from sklearn.model_selection import train_test_split"
   ]
  },
  {
   "cell_type": "markdown",
   "metadata": {},
   "source": [
    "### Step#2 Loading the dataset"
   ]
  },
  {
   "cell_type": "code",
   "execution_count": 14,
   "metadata": {},
   "outputs": [
    {
     "name": "stdout",
     "output_type": "stream",
     "text": [
      "Resultant CSV after joining all CSV files at a particular location...\n",
      "                  Image_id  Label\n",
      "0     id_02amazy34fgh2.jpg      1\n",
      "1     id_02mh3w48pmyc9.jpg      0\n",
      "2     id_02rpb463h9d3w.jpg      0\n",
      "3     id_02wc3jeeao8ol.jpg      1\n",
      "4     id_03t2hapb8wz8p.jpg      1\n",
      "5     id_04xrxyd43rlgz.jpg      0\n",
      "6     id_05gqx7h8y6iye.jpg      1\n",
      "7     id_06le9g89kqth5.jpg      1\n",
      "8     id_082w0qygo3eth.jpg      0\n",
      "9     id_086yvmu3nnvbe.jpg      1\n",
      "10    id_09v3am3ppzesz.jpg      0\n",
      "11    id_0bbnpqpkpbod3.jpg      1\n",
      "12    id_0bd0chrhwa88r.jpg      1\n",
      "13    id_0d6mm3xcpbqkw.jpg      1\n",
      "14    id_0ff2fm63gzxvs.jpg      0\n",
      "15    id_0g00jpbynmgfr.jpg      0\n",
      "16    id_0gur3rc3nuft9.jpg      0\n",
      "17    id_0k7gdyyx5zunr.jpg      1\n",
      "18    id_0klqzvk8id4bt.jpg      0\n",
      "19    id_0mytnx3vd7ebk.jpg      0\n",
      "20    id_0ncnn142aww4v.jpg      1\n",
      "21    id_0qm8i331u09jq.jpg      0\n",
      "22    id_0qrjnjx2nbbde.jpg      0\n",
      "23    id_0t41fhqaaqux9.jpg      0\n",
      "24    id_0t76933bwfswn.jpg      1\n",
      "25    id_0t7gw6z26pabf.jpg      0\n",
      "26    id_0ub75edrc3qvg.jpg      1\n",
      "27    id_0unlhj59tv0p4.jpg      0\n",
      "28    id_0vn4379vhh52p.jpg      1\n",
      "29    id_0wq0ldha65pkf.jpg      0\n",
      "...                    ...    ...\n",
      "1589  id_zbzgkw14mdnlw.jpg      0\n",
      "1590  id_zcm6ptwtyqb9o.jpg      1\n",
      "1591  id_zehit3qijcph8.jpg      1\n",
      "1592  id_zhizwrcgl6tnu.jpg      0\n",
      "1593  id_zhok6648ypi53.jpg      1\n",
      "1594  id_zi85wl6irc5yx.jpg      0\n",
      "1595  id_zj39k0wo0vz0p.jpg      0\n",
      "1596  id_zjq1hynwv2lwj.jpg      1\n",
      "1597  id_zkc86wqhhklgh.jpg      1\n",
      "1598  id_zkqo9tf2av5gw.jpg      0\n",
      "1599  id_zku0n9fxgr9zl.jpg      0\n",
      "1600  id_zkxc1lssa7fqh.jpg      1\n",
      "1601  id_zm116pc1ew179.jpg      1\n",
      "1602  id_zn76xuzlkt55g.jpg      1\n",
      "1603  id_znfv94esdbiae.jpg      1\n",
      "1604  id_zqs366zt1qhsk.jpg      0\n",
      "1605  id_zqvto0725ipyp.jpg      0\n",
      "1606  id_zrcr2h2im6dxf.jpg      1\n",
      "1607  id_zrf1msg5lku5s.jpg      0\n",
      "1608  id_zsikh94rq4xhn.jpg      0\n",
      "1609  id_zsnxlnf1wa805.jpg      0\n",
      "1610  id_zstp393nubqpe.jpg      1\n",
      "1611  id_zsts4k0kqtywj.jpg      1\n",
      "1612  id_zsv7vc6mzcqyj.jpg      1\n",
      "1613  id_zsvdecgfick1x.jpg      0\n",
      "1614  id_ztf4l3e8m6gmh.jpg      0\n",
      "1615  id_ztgztu5vexsoe.jpg      1\n",
      "1616  id_ztue0lrjt4l4g.jpg      0\n",
      "1617  id_zyubro5pfg31d.jpg      0\n",
      "1618  id_zz20l1nlkrid7.jpg      0\n",
      "\n",
      "[1619 rows x 2 columns]\n"
     ]
    }
   ],
   "source": [
    "\n",
    "# setting the path for joining multiple files\n",
    "files = os.path.join(\"C:\\\\Users\\\\ICT\\\\Desktop\\\\\"\"train.csv\")\n",
    "\n",
    "# list of merged files returned\n",
    "files = glob.glob(files)\n",
    "\n",
    "print(\"Resultant CSV after joining all CSV files at a particular location...\");\n",
    "\n",
    "# joining files with concat and read_csv\n",
    "df = pd.concat(map(pd.read_csv, files), ignore_index=True)\n",
    "print(df)"
   ]
  },
  {
   "cell_type": "code",
   "execution_count": 6,
   "metadata": {
    "scrolled": true
   },
   "outputs": [
    {
     "data": {
      "text/html": [
       "<div>\n",
       "<style scoped>\n",
       "    .dataframe tbody tr th:only-of-type {\n",
       "        vertical-align: middle;\n",
       "    }\n",
       "\n",
       "    .dataframe tbody tr th {\n",
       "        vertical-align: top;\n",
       "    }\n",
       "\n",
       "    .dataframe thead th {\n",
       "        text-align: right;\n",
       "    }\n",
       "</style>\n",
       "<table border=\"1\" class=\"dataframe\">\n",
       "  <thead>\n",
       "    <tr style=\"text-align: right;\">\n",
       "      <th></th>\n",
       "      <th>Image_id</th>\n",
       "      <th>Label</th>\n",
       "    </tr>\n",
       "  </thead>\n",
       "  <tbody>\n",
       "    <tr>\n",
       "      <th>0</th>\n",
       "      <td>id_02amazy34fgh2.jpg</td>\n",
       "      <td>1</td>\n",
       "    </tr>\n",
       "    <tr>\n",
       "      <th>1</th>\n",
       "      <td>id_02mh3w48pmyc9.jpg</td>\n",
       "      <td>0</td>\n",
       "    </tr>\n",
       "    <tr>\n",
       "      <th>2</th>\n",
       "      <td>id_02rpb463h9d3w.jpg</td>\n",
       "      <td>0</td>\n",
       "    </tr>\n",
       "    <tr>\n",
       "      <th>3</th>\n",
       "      <td>id_02wc3jeeao8ol.jpg</td>\n",
       "      <td>1</td>\n",
       "    </tr>\n",
       "    <tr>\n",
       "      <th>4</th>\n",
       "      <td>id_03t2hapb8wz8p.jpg</td>\n",
       "      <td>1</td>\n",
       "    </tr>\n",
       "  </tbody>\n",
       "</table>\n",
       "</div>"
      ],
      "text/plain": [
       "               Image_id  Label\n",
       "0  id_02amazy34fgh2.jpg      1\n",
       "1  id_02mh3w48pmyc9.jpg      0\n",
       "2  id_02rpb463h9d3w.jpg      0\n",
       "3  id_02wc3jeeao8ol.jpg      1\n",
       "4  id_03t2hapb8wz8p.jpg      1"
      ]
     },
     "execution_count": 6,
     "metadata": {},
     "output_type": "execute_result"
    }
   ],
   "source": [
    "df.head()"
   ]
  },
  {
   "cell_type": "code",
   "execution_count": 7,
   "metadata": {},
   "outputs": [
    {
     "name": "stdout",
     "output_type": "stream",
     "text": [
      "<class 'pandas.core.frame.DataFrame'>\n",
      "RangeIndex: 1619 entries, 0 to 1618\n",
      "Data columns (total 2 columns):\n",
      "Image_id    1619 non-null object\n",
      "Label       1619 non-null int64\n",
      "dtypes: int64(1), object(1)\n",
      "memory usage: 25.4+ KB\n"
     ]
    }
   ],
   "source": [
    "df.info()"
   ]
  },
  {
   "cell_type": "code",
   "execution_count": 8,
   "metadata": {},
   "outputs": [
    {
     "data": {
      "text/plain": [
       "<bound method NDFrame.describe of                   Image_id  Label\n",
       "0     id_02amazy34fgh2.jpg      1\n",
       "1     id_02mh3w48pmyc9.jpg      0\n",
       "2     id_02rpb463h9d3w.jpg      0\n",
       "3     id_02wc3jeeao8ol.jpg      1\n",
       "4     id_03t2hapb8wz8p.jpg      1\n",
       "5     id_04xrxyd43rlgz.jpg      0\n",
       "6     id_05gqx7h8y6iye.jpg      1\n",
       "7     id_06le9g89kqth5.jpg      1\n",
       "8     id_082w0qygo3eth.jpg      0\n",
       "9     id_086yvmu3nnvbe.jpg      1\n",
       "10    id_09v3am3ppzesz.jpg      0\n",
       "11    id_0bbnpqpkpbod3.jpg      1\n",
       "12    id_0bd0chrhwa88r.jpg      1\n",
       "13    id_0d6mm3xcpbqkw.jpg      1\n",
       "14    id_0ff2fm63gzxvs.jpg      0\n",
       "15    id_0g00jpbynmgfr.jpg      0\n",
       "16    id_0gur3rc3nuft9.jpg      0\n",
       "17    id_0k7gdyyx5zunr.jpg      1\n",
       "18    id_0klqzvk8id4bt.jpg      0\n",
       "19    id_0mytnx3vd7ebk.jpg      0\n",
       "20    id_0ncnn142aww4v.jpg      1\n",
       "21    id_0qm8i331u09jq.jpg      0\n",
       "22    id_0qrjnjx2nbbde.jpg      0\n",
       "23    id_0t41fhqaaqux9.jpg      0\n",
       "24    id_0t76933bwfswn.jpg      1\n",
       "25    id_0t7gw6z26pabf.jpg      0\n",
       "26    id_0ub75edrc3qvg.jpg      1\n",
       "27    id_0unlhj59tv0p4.jpg      0\n",
       "28    id_0vn4379vhh52p.jpg      1\n",
       "29    id_0wq0ldha65pkf.jpg      0\n",
       "...                    ...    ...\n",
       "1589  id_zbzgkw14mdnlw.jpg      0\n",
       "1590  id_zcm6ptwtyqb9o.jpg      1\n",
       "1591  id_zehit3qijcph8.jpg      1\n",
       "1592  id_zhizwrcgl6tnu.jpg      0\n",
       "1593  id_zhok6648ypi53.jpg      1\n",
       "1594  id_zi85wl6irc5yx.jpg      0\n",
       "1595  id_zj39k0wo0vz0p.jpg      0\n",
       "1596  id_zjq1hynwv2lwj.jpg      1\n",
       "1597  id_zkc86wqhhklgh.jpg      1\n",
       "1598  id_zkqo9tf2av5gw.jpg      0\n",
       "1599  id_zku0n9fxgr9zl.jpg      0\n",
       "1600  id_zkxc1lssa7fqh.jpg      1\n",
       "1601  id_zm116pc1ew179.jpg      1\n",
       "1602  id_zn76xuzlkt55g.jpg      1\n",
       "1603  id_znfv94esdbiae.jpg      1\n",
       "1604  id_zqs366zt1qhsk.jpg      0\n",
       "1605  id_zqvto0725ipyp.jpg      0\n",
       "1606  id_zrcr2h2im6dxf.jpg      1\n",
       "1607  id_zrf1msg5lku5s.jpg      0\n",
       "1608  id_zsikh94rq4xhn.jpg      0\n",
       "1609  id_zsnxlnf1wa805.jpg      0\n",
       "1610  id_zstp393nubqpe.jpg      1\n",
       "1611  id_zsts4k0kqtywj.jpg      1\n",
       "1612  id_zsv7vc6mzcqyj.jpg      1\n",
       "1613  id_zsvdecgfick1x.jpg      0\n",
       "1614  id_ztf4l3e8m6gmh.jpg      0\n",
       "1615  id_ztgztu5vexsoe.jpg      1\n",
       "1616  id_ztue0lrjt4l4g.jpg      0\n",
       "1617  id_zyubro5pfg31d.jpg      0\n",
       "1618  id_zz20l1nlkrid7.jpg      0\n",
       "\n",
       "[1619 rows x 2 columns]>"
      ]
     },
     "execution_count": 8,
     "metadata": {},
     "output_type": "execute_result"
    }
   ],
   "source": [
    "df.describe"
   ]
  },
  {
   "cell_type": "markdown",
   "metadata": {},
   "source": [
    "### Step#3 cleaning of dataset"
   ]
  },
  {
   "cell_type": "code",
   "execution_count": 9,
   "metadata": {},
   "outputs": [
    {
     "data": {
      "text/plain": [
       "Index(['Image_id', 'Label'], dtype='object')"
      ]
     },
     "execution_count": 9,
     "metadata": {},
     "output_type": "execute_result"
    }
   ],
   "source": [
    "df.columns"
   ]
  },
  {
   "cell_type": "code",
   "execution_count": 10,
   "metadata": {},
   "outputs": [
    {
     "data": {
      "text/plain": [
       "(1619, 2)"
      ]
     },
     "execution_count": 10,
     "metadata": {},
     "output_type": "execute_result"
    }
   ],
   "source": [
    "df.shape"
   ]
  },
  {
   "cell_type": "markdown",
   "metadata": {},
   "source": [
    "### Perform data segmentation "
   ]
  },
  {
   "cell_type": "code",
   "execution_count": 43,
   "metadata": {},
   "outputs": [
    {
     "ename": "TypeError",
     "evalue": "'str' object is not callable",
     "output_type": "error",
     "traceback": [
      "\u001b[1;31m---------------------------------------------------------------------------\u001b[0m",
      "\u001b[1;31mTypeError\u001b[0m                                 Traceback (most recent call last)",
      "\u001b[1;32m<ipython-input-43-ee9481e95d74>\u001b[0m in \u001b[0;36m<module>\u001b[1;34m\u001b[0m\n\u001b[0;32m      3\u001b[0m \u001b[1;33m\u001b[0m\u001b[0m\n\u001b[0;32m      4\u001b[0m \u001b[0my\u001b[0m \u001b[1;33m=\u001b[0m \u001b[0mdf\u001b[0m\u001b[1;33m\u001b[0m\u001b[1;33m\u001b[0m\u001b[0m\n\u001b[1;32m----> 5\u001b[1;33m \u001b[0mX\u001b[0m \u001b[1;33m=\u001b[0m \u001b[0mdf\u001b[0m\u001b[1;33m(\u001b[0m\u001b[1;34m\"train\"\u001b[0m\u001b[1;33m)\u001b[0m\u001b[1;33m\u001b[0m\u001b[1;33m\u001b[0m\u001b[0m\n\u001b[0m\u001b[0;32m      6\u001b[0m \u001b[1;33m\u001b[0m\u001b[0m\n\u001b[0;32m      7\u001b[0m \u001b[0mX_train\u001b[0m\u001b[1;33m,\u001b[0m\u001b[0mX_test\u001b[0m\u001b[1;33m,\u001b[0m\u001b[0my_train\u001b[0m\u001b[1;33m,\u001b[0m\u001b[0my_test\u001b[0m \u001b[1;33m=\u001b[0m \u001b[0mtrain_test_split\u001b[0m\u001b[1;33m(\u001b[0m\u001b[0mX\u001b[0m\u001b[1;33m.\u001b[0m\u001b[0mindex\u001b[0m\u001b[1;33m,\u001b[0m\u001b[0my\u001b[0m\u001b[1;33m,\u001b[0m\u001b[0mtest_size\u001b[0m\u001b[1;33m=\u001b[0m\u001b[1;36m0.2\u001b[0m\u001b[1;33m)\u001b[0m\u001b[1;33m\u001b[0m\u001b[1;33m\u001b[0m\u001b[0m\n",
      "\u001b[1;31mTypeError\u001b[0m: 'str' object is not callable"
     ]
    }
   ],
   "source": [
    "from sklearn.model_selection import train_test_split\n",
    "\n",
    "\n",
    "y = df\n",
    "X = df(\"train\")\n",
    "\n",
    "X_train,X_test,y_train,y_test = train_test_split(X.index,y,test_size=0.2)\n",
    "X.iloc[X_train] # return dataframe train\n"
   ]
  },
  {
   "cell_type": "code",
   "execution_count": 39,
   "metadata": {},
   "outputs": [],
   "source": [
    "df = \"y\"\n",
    "df = \"X\""
   ]
  },
  {
   "cell_type": "markdown",
   "metadata": {},
   "source": [
    "### Train your model"
   ]
  },
  {
   "cell_type": "code",
   "execution_count": 26,
   "metadata": {},
   "outputs": [
    {
     "ename": "NameError",
     "evalue": "name 'X_train' is not defined",
     "output_type": "error",
     "traceback": [
      "\u001b[1;31m---------------------------------------------------------------------------\u001b[0m",
      "\u001b[1;31mNameError\u001b[0m                                 Traceback (most recent call last)",
      "\u001b[1;32m<ipython-input-26-8be4f7729f73>\u001b[0m in \u001b[0;36m<module>\u001b[1;34m\u001b[0m\n\u001b[0;32m      2\u001b[0m \u001b[1;33m\u001b[0m\u001b[0m\n\u001b[0;32m      3\u001b[0m \u001b[0mreg\u001b[0m \u001b[1;33m=\u001b[0m \u001b[0mLinearRegression\u001b[0m\u001b[1;33m(\u001b[0m\u001b[1;33m)\u001b[0m\u001b[1;33m\u001b[0m\u001b[1;33m\u001b[0m\u001b[0m\n\u001b[1;32m----> 4\u001b[1;33m \u001b[0mreg\u001b[0m\u001b[1;33m.\u001b[0m\u001b[0mfit\u001b[0m\u001b[1;33m(\u001b[0m\u001b[0mX_train\u001b[0m\u001b[1;33m,\u001b[0m \u001b[0my_train\u001b[0m\u001b[1;33m)\u001b[0m\u001b[1;33m\u001b[0m\u001b[1;33m\u001b[0m\u001b[0m\n\u001b[0m",
      "\u001b[1;31mNameError\u001b[0m: name 'X_train' is not defined"
     ]
    }
   ],
   "source": [
    "from sklearn.linear_model import LinearRegression\n",
    "\n",
    "reg = LinearRegression()\n",
    "reg.fit(X_train, y_train)"
   ]
  },
  {
   "cell_type": "code",
   "execution_count": null,
   "metadata": {},
   "outputs": [],
   "source": []
  }
 ],
 "metadata": {
  "kernelspec": {
   "display_name": "Python 3",
   "language": "python",
   "name": "python3"
  },
  "language_info": {
   "codemirror_mode": {
    "name": "ipython",
    "version": 3
   },
   "file_extension": ".py",
   "mimetype": "text/x-python",
   "name": "python",
   "nbconvert_exporter": "python",
   "pygments_lexer": "ipython3",
   "version": "3.7.3"
  }
 },
 "nbformat": 4,
 "nbformat_minor": 2
}
